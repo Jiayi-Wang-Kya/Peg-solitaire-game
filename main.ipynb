{
 "cells": [
  {
   "cell_type": "markdown",
   "id": "e145549a",
   "metadata": {},
   "source": [
    "## Setup the environment\n",
    "First, import the package and setup the constant parameters we need."
   ]
  },
  {
   "cell_type": "code",
   "execution_count": 11,
   "id": "78715446",
   "metadata": {
    "pycharm": {
     "name": "#%%\n"
    }
   },
   "outputs": [],
   "source": [
    "# ---------------------------- package setup ------------------------------- #\n",
    "from tkinter import *\n",
    "from tkinter import messagebox, filedialog\n",
    "from datetime import datetime\n",
    "import numpy as np\n",
    "\n",
    "# ---------------------------- parameter setup ------------------------------- #\n",
    "CURRENT = datetime.now()\n",
    "THEME_COLOR = \"#375362\"\n",
    "translation = {\"a\": (0, 2), \"b\": (0, 3), \"c\": (0, 4),\n",
    "               \"d\": (1, 2), \"e\": (1, 3), \"f\": (1, 4),\n",
    "               \"g\": (2, 0), \"h\": (2, 1), \"i\": (2, 2), \"j\": (2, 3), \"k\": (2, 4), \"l\": (2, 5), \"m\": (2, 6),\n",
    "               \"n\": (3, 0), \"o\": (3, 1), \"p\": (3, 2), \"x\": (3, 3), \"P\": (3, 4), \"O\": (3, 5), \"N\": (3, 6),\n",
    "               \"M\": (4, 0), \"L\": (4, 1), \"K\": (4, 2), \"J\": (4, 3), \"I\": (4, 4), \"H\": (4, 5), \"G\": (4, 6),\n",
    "               \"F\": (5, 2), \"E\": (5, 3), \"D\": (5, 4),\n",
    "               \"C\": (6, 2), \"B\": (6, 3), \"A\": (6, 4)}\n",
    "dot_info = np.array([[2, 2, 1, 1, 1, 2, 2],\n",
    "                     [2, 2, 1, 1, 1, 2, 2],\n",
    "                     [1, 1, 1, 1, 1, 1, 1],\n",
    "                     [1, 1, 1, 0, 1, 1, 1],\n",
    "                     [1, 1, 1, 1, 1, 1, 1],\n",
    "                     [2, 2, 1, 1, 1, 2, 2],\n",
    "                     [2, 2, 1, 1, 1, 2, 2]])"
   ]
  },
  {
   "cell_type": "markdown",
   "id": "6079e7d4",
   "metadata": {},
   "source": [
    "## Function1 - valid_check()\n",
    "This function is used to translate the alphabet notation to coordinate one and calculate the middle dot. Then it will go through all the jump rules to check if the current move command is valid. This function will return a bool variable called ``is_valid`` for future use."
   ]
  },
  {
   "cell_type": "code",
   "execution_count": 12,
   "id": "11488805",
   "metadata": {},
   "outputs": [],
   "source": [
    "# ---------------------------- Test for valid input ------------------------------- #\n",
    "def valid_check():\n",
    "    \"\"\"\n",
    "    Check if user input right from/to dot_info are valid\n",
    "    \"\"\"\n",
    "    global from_dot_first, from_dot_second, middle_dot_first, middle_dot_second, to_dot_first, \\\n",
    "        to_dot_second, middle_dot\n",
    "    # Get the input value from entry\n",
    "    try:\n",
    "\n",
    "        from_dot = translation[user_input.get()[0]]\n",
    "        from_dot_first = int(from_dot[0])\n",
    "        from_dot_second = int(from_dot[1])\n",
    "\n",
    "        to_dot = translation[user_input.get()[1]]\n",
    "        to_dot_first = int(to_dot[0])\n",
    "        to_dot_second = int(to_dot[1])\n",
    "\n",
    "        middle_dot_first = int((from_dot_first + to_dot_first) / 2)\n",
    "        middle_dot_second = int((from_dot_second + to_dot_second) / 2)\n",
    "        for k, (a, b) in translation.items():\n",
    "            if (a, b) == (middle_dot_first, middle_dot_second):\n",
    "                middle_dot = k\n",
    "\n",
    "        valid_jump = [(from_dot_first - 2, from_dot_second), (from_dot_first + 2, from_dot_second),\n",
    "                      (from_dot_first, from_dot_second - 2), (from_dot_first, from_dot_second + 2)]\n",
    "    # 1. Check if the dot exist\n",
    "    except (KeyError, IndexError):\n",
    "        messagebox.showwarning(title=\"Warning\", message=\"The dot position not exist or not two dots!\")\n",
    "\n",
    "    else:\n",
    "        # 2. Check if the from_dot is filled and the to_dot is empty:\n",
    "        if dot_info[from_dot_first, from_dot_second] != 1 or dot_info[to_dot_first, to_dot_second] != 0:\n",
    "            messagebox.showwarning(title=\"Warning\", message=\"Please make sure the from dot is filled and the to dot is \"\n",
    "                                                            \"empty!\")\n",
    "            is_valid = False\n",
    "\n",
    "        # 3. Check if it's a diagonal jump\n",
    "        elif (to_dot_first, to_dot_second) not in valid_jump:\n",
    "            messagebox.showwarning(title=\"Warning\", message=\"It's a diagonal jump! Please try again!\")\n",
    "            is_valid = False\n",
    "\n",
    "        # 4. Check if the middle dot is filled\n",
    "        elif dot_info[middle_dot_first, middle_dot_second] != 1:\n",
    "            messagebox.showwarning(title=\"Warning\", message=\"The dot between these two is empty!\")\n",
    "            is_valid = False\n",
    "\n",
    "        else:\n",
    "            is_valid = True\n",
    "\n",
    "        return is_valid"
   ]
  },
  {
   "cell_type": "markdown",
   "id": "e5e8752d",
   "metadata": {},
   "source": [
    "## Function2 - check_further_move()\n",
    "This function is used to find all valid moves by searching the pattern [0, 1, 1] or [1, 1, 0] in the current board and record them in a list variable ``tips``. This function will return a bool variable called further_move for future use."
   ]
  },
  {
   "cell_type": "code",
   "execution_count": 13,
   "id": "39edf544",
   "metadata": {},
   "outputs": [],
   "source": [
    "# ---------------------Check if there is valid left--------------------- #\n",
    "def check_further_move():\n",
    "    \"\"\"\n",
    "    Check if there are still moveable pegs on the board\n",
    "    \"\"\"\n",
    "    global tips\n",
    "    tips = []\n",
    "    for row in range(5):\n",
    "        for col in range(5):\n",
    "            #vertical patterns\n",
    "            if np.all(dot_info[row:row+3, col] == [0, 1, 1]) or np.all(dot_info[row:row+3, col] == [1, 1, 0]):\n",
    "                for index, value in translation.items():\n",
    "                    if value == (row, col):\n",
    "                        start = index\n",
    "                    elif value == (row + 2, col):\n",
    "                        end = index\n",
    "                pair = start + end\n",
    "                tips.append(pair)\n",
    "            #horizontal patterns\n",
    "            if np.all(dot_info[row, col:col+3] == [0, 1, 1]) or np.all(dot_info[row, col:col+3] == [1, 1, 0]):\n",
    "                for index, value in translation.items():\n",
    "                    if value == (row, col):\n",
    "                        start = index\n",
    "                    elif value == (row, col + 2):\n",
    "                        end = index\n",
    "                pair = start + end\n",
    "                tips.append(pair)\n",
    "    if len(tips) == 0:\n",
    "        further_move = False\n",
    "    else:\n",
    "        further_move = True\n",
    "\n",
    "    return further_move"
   ]
  },
  {
   "cell_type": "markdown",
   "id": "2c462d9b",
   "metadata": {},
   "source": [
    "## Function3 - check_game_over()\n",
    "This function used the previous result from Function2-``check_further_move()``.If there isn't further move, then the function will check if the user has win the game or lose the game and display a message box in the UI."
   ]
  },
  {
   "cell_type": "code",
   "execution_count": 14,
   "id": "b6108f49",
   "metadata": {},
   "outputs": [],
   "source": [
    "# -------------------- Check if the game can continue ----------------------- #\n",
    "def check_game_over():\n",
    "    \"\"\"\n",
    "    using the sum of dot_into metadata to check if only 1 peg left and if it's in the right positon(middle of the board)\n",
    "    \"\"\"\n",
    "    if not check_further_move():\n",
    "        if dot_info.sum() == 33:\n",
    "            if dot_info[3, 3] == 1:\n",
    "                messagebox.showinfo(title=\"\", message=\"Congratulations! You win! :)\")\n",
    "            else:\n",
    "                messagebox.showinfo(title=\"\", message=\"Ops, the only peg is not in the middle. :(\")\n",
    "        else:\n",
    "            messagebox.showinfo(title=\"\", message=\"No more moves. You lose! :(\")"
   ]
  },
  {
   "cell_type": "markdown",
   "id": "9b26bf0c",
   "metadata": {},
   "source": [
    "## Function4 - move()\n",
    "This function used the previous result from Function1-``valid_check()``.If it's a valid move, then the function will log the move into log file and change the pattern(color) of peg in UI and the value of peg. In the end, it will test if the game is over(win or lose) using Function3-``check_game_over()``.\n",
    "\n",
    "This function is linked to [move button] in the UI."
   ]
  },
  {
   "cell_type": "code",
   "execution_count": 15,
   "id": "ade1d00c",
   "metadata": {},
   "outputs": [],
   "source": [
    "# ---------------------------- Make dot move ------------------------------- #\n",
    "def move():\n",
    "    \"\"\"\n",
    "    Make and record dot move if input are valid\n",
    "    \"\"\"\n",
    "    global from_dot_first, from_dot_second, middle_dot_first, middle_dot_second, to_dot_first, \\\n",
    "        to_dot_second, middle_dot\n",
    "    try:\n",
    "        is_valid = valid_check()\n",
    "    except TypeError:\n",
    "        is_valid = False\n",
    "\n",
    "    if is_valid:\n",
    "        # 1. Record the move in log file\n",
    "        try:\n",
    "            with open(f\"log_{CURRENT}.txt\", mode=\"a\") as file:\n",
    "                file.write(f\"{user_input.get()},\")\n",
    "        except FileNotFoundError:\n",
    "            with open(f\"log_{CURRENT}.txt\", mode=\"w\") as file:\n",
    "                file.write(f\"{user_input.get()},\")\n",
    "\n",
    "        # 2. Update dot color\n",
    "        globals()[f\"dot{from_dot_first}{from_dot_second}\"].config(text=f\"⚪{user_input.get()[0]}\")\n",
    "        globals()[f\"dot{middle_dot_first}{middle_dot_second}\"].config(text=f\"⚪{middle_dot}\")\n",
    "        globals()[f\"dot{to_dot_first}{to_dot_second}\"].config(text=f\"🔴{user_input.get()[1]}\")\n",
    "\n",
    "        # 3. Update dot_info array\n",
    "        dot_info[from_dot_first, from_dot_second] = 0\n",
    "        dot_info[middle_dot_first, middle_dot_second] = 0\n",
    "        dot_info[to_dot_first, to_dot_second] = 1\n",
    "\n",
    "        check_game_over()"
   ]
  },
  {
   "cell_type": "markdown",
   "id": "20ea4027",
   "metadata": {},
   "source": [
    "## Function5 - openfile()\n",
    "This function is used to open and load the partial or entire solution file(txt). The user interface will be automatically updated by using the Function4 - ``move()`` in this function. An example solution file has been provide in the zip, please follow the format(using comma[,] to separate moves in one line)\n",
    "\n",
    "This function is linked to [open button] in the UI."
   ]
  },
  {
   "cell_type": "code",
   "execution_count": 16,
   "id": "b03181c7",
   "metadata": {},
   "outputs": [],
   "source": [
    "# ---------------------Open button to import solution--------------------- #\n",
    "def openfile():\n",
    "    filetypes = (\n",
    "        ('text files', '*.txt'),\n",
    "        ('All files', '*.*')\n",
    "    )\n",
    "\n",
    "    # 1. Show the open file dialog\n",
    "    solution_file = filedialog.askopenfile(filetypes=filetypes)\n",
    "    # 2. Read the text file and show its content on the Text\n",
    "    data = solution_file.read().split(\",\")\n",
    "    # 3. Loop\n",
    "    for _ in data:\n",
    "        user_input.delete(0, END)\n",
    "        user_input.insert(0, f\"{_}\")\n",
    "        move()"
   ]
  },
  {
   "cell_type": "markdown",
   "id": "071861e1",
   "metadata": {},
   "source": [
    "## Function6 - undo()\n",
    "This function is used to undo the action user have made and it can undo as many steps as you want. The log file, peg board will be updated correspondingly.\n",
    "\n",
    "This function is linked to [undo button] in the UI."
   ]
  },
  {
   "cell_type": "code",
   "execution_count": 17,
   "id": "9830ff0f",
   "metadata": {},
   "outputs": [],
   "source": [
    "# ---------------------Open button to import solution--------------------- #\n",
    "def undo():\n",
    "    with open(f\"log_{CURRENT}.txt\", \"r\") as file:\n",
    "        lines = file.readlines()\n",
    "        end = lines[0][-3: -1]\n",
    "\n",
    "    undo_from_dot = translation[end[0]]\n",
    "    undo_from_dot_first = int(undo_from_dot[0])\n",
    "    undo_from_dot_second = int(undo_from_dot[1])\n",
    "\n",
    "    undo_to_dot = translation[end[1]]\n",
    "    undo_to_dot_first = int(undo_to_dot[0])\n",
    "    undo_to_dot_second = int(undo_to_dot[1])\n",
    "\n",
    "    undo_middle_dot_first = int((undo_from_dot_first + undo_to_dot_first) / 2)\n",
    "    undo_middle_dot_second = int((undo_from_dot_second + undo_to_dot_second) / 2)\n",
    "    for k, (a, b) in translation.items():\n",
    "        if (a, b) == (undo_middle_dot_first, undo_middle_dot_second):\n",
    "            undo_middle_dot = k\n",
    "    # 1. Update dot color\n",
    "    globals()[f\"dot{undo_to_dot_first}{undo_to_dot_second}\"].config(text=f\"⚪{end[-1]}\")\n",
    "    globals()[f\"dot{undo_middle_dot_first}{undo_middle_dot_second}\"].config(text=f\"🔴{undo_middle_dot}\")\n",
    "    globals()[f\"dot{undo_from_dot_first}{undo_from_dot_second}\"].config(text=f\"🔴{end[0]}\")\n",
    "\n",
    "    # 2. Update dot_info array\n",
    "    dot_info[undo_from_dot_first, undo_from_dot_second] = 1\n",
    "    dot_info[undo_middle_dot_first, undo_middle_dot_second] = 1\n",
    "    dot_info[undo_to_dot_first, undo_to_dot_second] = 0\n",
    "\n",
    "    # 3. Remove this move from log file\n",
    "    with open(f\"log_{CURRENT}.txt\", mode=\"r\") as file:\n",
    "        line = file.readlines()[0][:-3]\n",
    "\n",
    "    with open(f\"log_{CURRENT}.txt\", mode=\"w\") as file:\n",
    "        file.write(line)"
   ]
  },
  {
   "cell_type": "markdown",
   "id": "a17933f4",
   "metadata": {},
   "source": [
    "## Function7 - tip()\n",
    "This function used Function2-``check_further_move`` and display a message box to show all valid moves for the next step to give the users some hints.\n",
    "\n",
    "This function is linked to [tips button] in the UI."
   ]
  },
  {
   "cell_type": "code",
   "execution_count": 18,
   "id": "01611ae7",
   "metadata": {},
   "outputs": [],
   "source": [
    "# ---------------------Tip button to show tips for next move--------------------- #\n",
    "def tip():\n",
    "    if check_further_move():\n",
    "        messagebox.showinfo(title=\"Tips\", message=f\"Try {tips}\")"
   ]
  },
  {
   "cell_type": "markdown",
   "id": "6bf730ae",
   "metadata": {},
   "source": [
    "## Create UI interface\n",
    "**Entry Field**\n",
    "\n",
    "type in commands one at a time then click Move button.\n",
    "\n",
    "**Move Button**\n",
    "\n",
    "click the button, program will execute the input in entry fields and update the interface\n",
    "\n",
    "**Open Button**\n",
    "\n",
    "click the button, you can upload solution files (in txt, partial or non-partial) and program will automatically update the interface per the file in uploaded.\n",
    "\n",
    "**Undo Button**\n",
    "\n",
    "click the button, you can undo the last move. Apply to both type in move and load in file move.\n",
    "\n",
    "**Tips Button**\n",
    "\n",
    "click the button, a message box will display to return to all valid moves under the current situation\n",
    "\n",
    "**Exit Button**\n",
    "\n",
    "click the button to terminate a game in progress and the log will be output automatically with name log_[datetime] under the same folder."
   ]
  },
  {
   "cell_type": "code",
   "execution_count": 19,
   "id": "f81143ac",
   "metadata": {
    "pycharm": {
     "name": "#%%\n"
    }
   },
   "outputs": [],
   "source": [
    "# ---------------------------- UI setup ------------------------------- #\n",
    "window = Tk()\n",
    "window.title(\"Peg Solitaire Game\")\n",
    "window.config(padx=50, pady=50, background=THEME_COLOR)\n",
    "\n",
    "#create 33 peg on the UI board\n",
    "for key, (x, y) in translation.items():\n",
    "    globals()[f\"dot{x}{y}\"] = Button(text=f\"🔴{key}\", highlightthickness=0)\n",
    "    globals()[f\"dot{x}{y}\"].grid(row=x+1, column=y+1)\n",
    "globals()[\"dot33\"].config(text=\"⚪x\")\n",
    "\n",
    "user_input = Entry()\n",
    "user_input.insert(INSERT, \"e.g. ex\")\n",
    "user_input.grid(row=1, column=10)\n",
    "\n",
    "for _ in range(0, 7):\n",
    "    row_label = Label(text=f\"{_}\", background=THEME_COLOR, foreground=\"white\")\n",
    "    row_label.grid(row=0, column=_+1)\n",
    "    column_label = Label(text=f\"{_}\", background=THEME_COLOR, foreground=\"white\")\n",
    "    column_label.grid(row=_+1, column=0)\n",
    "\n",
    "# ---------------------Exit button to terminate the game--------------------- #\n",
    "exit_button = Button(text=\"Exit\", command=window.destroy)\n",
    "exit_button.grid(row=8, column=3, columnspan=3)\n",
    "\n",
    "move_button = Button(text=\"Move\", command=move)\n",
    "move_button.grid(row=4, column=10)\n",
    "\n",
    "open_button = Button(text=\"Open\", command=openfile)\n",
    "open_button.grid(row=8, column=10)\n",
    "\n",
    "undo_button = Button(text=\"Undo\", command=undo)\n",
    "undo_button.grid(row=8, column=1)\n",
    "\n",
    "tip_button = Button(text=\"Tips\", command=tip, borderwidth=0)\n",
    "tip_button.grid(row=8, column=7)\n",
    "\n",
    "window.mainloop()"
   ]
  },
  {
   "cell_type": "code",
   "execution_count": null,
   "id": "bb54865d-c90e-413d-a62a-6e12de266074",
   "metadata": {},
   "outputs": [],
   "source": []
  }
 ],
 "metadata": {
  "kernelspec": {
   "display_name": "Python 3 (ipykernel)",
   "language": "python",
   "name": "python3"
  },
  "language_info": {
   "codemirror_mode": {
    "name": "ipython",
    "version": 3
   },
   "file_extension": ".py",
   "mimetype": "text/x-python",
   "name": "python",
   "nbconvert_exporter": "python",
   "pygments_lexer": "ipython3",
   "version": "3.9.7"
  }
 },
 "nbformat": 4,
 "nbformat_minor": 5
}
